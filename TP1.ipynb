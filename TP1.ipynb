{
 "cells": [
  {
   "cell_type": "code",
   "execution_count": 2,
   "id": "229d9864-3088-438f-8307-45f5b1ea51a3",
   "metadata": {},
   "outputs": [],
   "source": [
    "import random as r\n",
    "import time\n",
    "import matplotlib.pyplot as plt\n",
    "import numpy as np\n",
    "import itertools"
   ]
  },
  {
   "cell_type": "markdown",
   "id": "a694af84-8dba-4327-a148-11f2f2ac14bd",
   "metadata": {},
   "source": [
    "# Exo 1"
   ]
  },
  {
   "cell_type": "code",
   "execution_count": 3,
   "id": "5a25b853-1af4-4a2a-9b6f-20d3f66a752e",
   "metadata": {},
   "outputs": [],
   "source": [
    "\n",
    "def liste_aleatoire(n,v_min,v_max):\n",
    "    return [r.randint(v_min,v_max) for i in range(n)]"
   ]
  },
  {
   "cell_type": "code",
   "execution_count": 4,
   "id": "9e414d75-709f-4c50-9a9d-c7f247a87084",
   "metadata": {},
   "outputs": [
    {
     "data": {
      "text/plain": [
       "[3, 3, 4, 4, 3, 4, 2, 4, 4, 4]"
      ]
     },
     "execution_count": 4,
     "metadata": {},
     "output_type": "execute_result"
    }
   ],
   "source": [
    "liste_aleatoire(10,2,4)"
   ]
  },
  {
   "cell_type": "markdown",
   "id": "594dcc34-a698-4f93-814e-2595c34bb857",
   "metadata": {},
   "source": [
    "# Exo 2"
   ]
  },
  {
   "cell_type": "code",
   "execution_count": 5,
   "id": "8c22ecbd-a731-48df-bae1-1d62d8a2c866",
   "metadata": {},
   "outputs": [],
   "source": [
    "def tri_insertion(L,h = 1):\n",
    "    for i in range(len(L)):\n",
    "        elem = L[i]\n",
    "        \n",
    "        # décaller ou pas sur [0..1]\n",
    "        j = i\n",
    "        while j>=1 and L[j-h]>elem:\n",
    "            L[j] = L[j-h]\n",
    "            j-=h\n",
    "        # mettre elem dans le trou\n",
    "        L[j] = elem\n",
    "    return L"
   ]
  },
  {
   "cell_type": "code",
   "execution_count": 6,
   "id": "4c14f9fb-f879-4a49-8181-9019bb78a828",
   "metadata": {},
   "outputs": [
    {
     "name": "stdout",
     "output_type": "stream",
     "text": [
      "[5, 3, 4, 2, 7, 1, 2, 7, 8, 4]\n",
      "[1, 2, 2, 3, 4, 4, 5, 7, 7, 8]\n"
     ]
    }
   ],
   "source": [
    "L = liste_aleatoire(10,0,10)\n",
    "print(L)\n",
    "tri_insertion(L)\n",
    "print(L)"
   ]
  },
  {
   "cell_type": "markdown",
   "id": "c91e4729-dc12-4e0d-88c8-19043d509809",
   "metadata": {},
   "source": [
    "# Exo 3"
   ]
  },
  {
   "cell_type": "code",
   "execution_count": 35,
   "id": "db021b31-792b-4978-9627-cda1c7ff605e",
   "metadata": {},
   "outputs": [],
   "source": [
    "def tri_shell(L):\n",
    "    saut_empirique = [1,4,10,23,57,132,301,701]\n",
    "    if len(L) > 2*saut_empirique[-1]:\n",
    "        saut = saut_empirique\n",
    "        while len(L) > 2*saut[-1]:\n",
    "            saut.append(2*saut[-1])\n",
    "    else :\n",
    "        saut = [i for i in saut_empirique if i < len(L)]\n",
    "    for h in saut[::-1]:\n",
    "        tri_insertion(L,h)"
   ]
  },
  {
   "cell_type": "code",
   "execution_count": 36,
   "id": "14d2f802-1f5c-4ad6-9549-263fc2ca331a",
   "metadata": {},
   "outputs": [
    {
     "name": "stdout",
     "output_type": "stream",
     "text": [
      "[0, 0, 0, 0, 0, 0, 0, 0, 0, 0, 0, 0, 0, 0, 0, 0, 0, 0, 0, 0, 0, 0, 0, 0, 0, 0, 0, 0, 0, 0, 0, 0, 0, 0, 0, 0, 0, 0, 0, 0, 0, 0, 0, 0, 0, 0, 0, 0, 0, 0, 0, 0, 0, 0, 0, 0, 0, 0, 0, 0, 0, 0, 0, 0, 0, 0, 0, 0, 0, 0, 0, 0, 0, 0, 0, 0, 0, 0, 0, 0, 0, 0, 0, 0, 0, 0, 0, 0, 0, 0, 0, 0, 0, 0, 0, 0, 0, 0, 0, 0, 0, 0, 0, 0, 0, 0, 0, 0, 0, 0, 0, 0, 0, 0, 0, 0, 0, 0, 0, 0, 0, 0, 0, 0, 0, 0, 0, 0, 0, 0, 0, 0, 0, 0, 0, 0, 0, 0, 0, 0, 0, 0, 0, 0, 0, 0, 0, 0, 0, 0, 0, 0, 0, 0, 0, 0, 0, 0, 0, 0, 0, 0, 0, 0, 0, 0, 0, 0, 0, 0, 0, 0, 0, 0, 0, 0, 0, 0, 0, 0, 0, 0, 1, 1, 1, 1, 1, 1, 1, 1, 1, 1, 1, 1, 1, 1, 1, 1, 1, 1, 1, 1, 1, 1, 1, 1, 1, 1, 1, 1, 1, 1, 1, 1, 1, 1, 1, 1, 1, 1, 1, 1, 1, 1, 1, 1, 1, 1, 1, 1, 1, 1, 1, 1, 1, 1, 1, 1, 1, 1, 1, 1, 1, 1, 1, 1, 1, 1, 1, 1, 1, 1, 1, 1, 1, 1, 1, 1, 1, 1, 1, 1, 1, 1, 1, 1, 1, 1, 1, 1, 1, 1, 1, 1, 1, 1, 1, 1, 1, 1, 1, 1, 1, 1, 1, 1, 1, 1, 1, 1, 1, 1, 1, 1, 1, 1, 1, 1, 1, 1, 1, 1, 1, 1, 1, 1, 1, 1, 1, 1, 1, 1, 1, 1, 1, 1, 1, 1, 1, 1, 1, 1, 1, 1, 1, 1, 1, 1, 1, 1, 1, 1, 1, 1, 1, 1, 1, 1, 1, 1, 1, 1, 1, 1, 1, 1, 1, 1, 1, 1, 1, 1, 1, 1, 1, 1, 1, 1, 2, 2, 2, 2, 2, 2, 2, 2, 2, 2, 2, 2, 2, 2, 2, 2, 2, 2, 2, 2, 2, 2, 2, 2, 2, 2, 2, 2, 2, 2, 2, 2, 2, 2, 2, 2, 2, 2, 2, 2, 2, 2, 2, 2, 2, 2, 2, 2, 2, 2, 2, 2, 2, 2, 2, 2, 2, 2, 2, 2, 2, 2, 2, 2, 2, 2, 2, 2, 2, 2, 2, 2, 2, 2, 2, 2, 2, 2, 2, 2, 2, 2, 2, 2, 2, 2, 2, 2, 2, 2, 2, 2, 2, 2, 2, 2, 2, 2, 2, 2, 2, 2, 2, 2, 2, 2, 2, 2, 2, 2, 2, 2, 2, 2, 2, 2, 2, 2, 2, 2, 2, 2, 2, 2, 2, 2, 2, 2, 2, 2, 2, 2, 2, 2, 2, 2, 2, 2, 2, 2, 2, 2, 2, 2, 2, 2, 2, 2, 2, 2, 2, 2, 2, 2, 2, 2, 2, 2, 2, 2, 2, 2, 2, 2, 2, 2, 2, 2, 2, 2, 2, 2, 2, 2, 2, 2, 2, 3, 3, 3, 3, 3, 3, 3, 3, 3, 3, 3, 3, 3, 3, 3, 3, 3, 3, 3, 3, 3, 3, 3, 3, 3, 3, 3, 3, 3, 3, 3, 3, 3, 3, 3, 3, 3, 3, 3, 3, 3, 3, 3, 3, 3, 3, 3, 3, 3, 3, 3, 3, 3, 3, 3, 3, 3, 3, 3, 3, 3, 3, 3, 3, 3, 3, 3, 3, 3, 3, 3, 3, 3, 3, 3, 3, 3, 3, 3, 3, 3, 3, 3, 3, 3, 3, 3, 3, 3, 3, 3, 3, 3, 3, 3, 3, 3, 3, 3, 3, 3, 3, 3, 3, 3, 3, 3, 3, 3, 3, 3, 3, 3, 3, 3, 3, 3, 3, 3, 3, 3, 3, 3, 3, 3, 3, 3, 3, 3, 3, 3, 3, 3, 3, 3, 3, 3, 3, 3, 3, 3, 3, 3, 3, 3, 3, 3, 3, 3, 3, 3, 3, 3, 3, 3, 3, 3, 3, 3, 3, 3, 3, 3, 3, 3, 3, 3, 3, 3, 3, 3, 3, 3, 3, 3, 3, 3, 3, 3, 3, 3, 3, 3, 3, 3, 3, 3, 3, 3, 3, 4, 4, 4, 4, 4, 4, 4, 4, 4, 4, 4, 4, 4, 4, 4, 4, 4, 4, 4, 4, 4, 4, 4, 4, 4, 4, 4, 4, 4, 4, 4, 4, 4, 4, 4, 4, 4, 4, 4, 4, 4, 4, 4, 4, 4, 4, 4, 4, 4, 4, 4, 4, 4, 4, 4, 4, 4, 4, 4, 4, 4, 4, 4, 4, 4, 4, 4, 4, 4, 4, 4, 4, 4, 4, 4, 4, 4, 4, 4, 4, 4, 4, 4, 4, 4, 4, 4, 4, 4, 4, 4, 4, 4, 4, 4, 4, 4, 4, 4, 4, 4, 4, 4, 4, 4, 4, 4, 4, 4, 4, 4, 4, 4, 4, 4, 4, 4, 4, 4, 4, 4, 4, 4, 4, 4, 4, 4, 4, 4, 4, 4, 4, 4, 4, 4, 4, 4, 4, 4, 4, 4, 4, 4, 4, 4, 4, 4, 4, 4, 4, 4, 4, 4, 4, 4, 4, 4, 4, 4, 4, 4, 4, 4, 4, 4, 4, 4, 4, 4, 4, 4, 4, 4, 4, 4, 4, 4, 4, 5, 5, 5, 5, 5, 5, 5, 5, 5, 5, 5, 5, 5, 5, 5, 5, 5, 5, 5, 5, 5, 5, 5, 5, 5, 5, 5, 5, 5, 5, 5, 5, 5, 5, 5, 5, 5, 5, 5, 5, 5, 5, 5, 5, 5, 5, 5, 5, 5, 5, 5, 5, 5, 5, 5, 5, 5, 5, 5, 5, 5, 5, 5, 5, 5, 5, 5, 5, 5, 5, 5, 5, 5, 5, 5, 5, 5, 5, 5, 5, 5, 5, 5, 5, 5, 5, 5, 5, 5, 5, 5, 5, 5, 5, 5, 5, 5, 5, 5, 5, 5, 5, 5, 5, 5, 5, 5, 5, 5, 5, 5, 5, 5, 5, 5, 5, 5, 5, 5, 5, 5, 5, 5, 5, 5, 5, 5, 5, 5, 5, 5, 5, 5, 5, 5, 5, 5, 5, 5, 5, 5, 5, 5, 5, 5, 5, 5, 5, 5, 5, 5, 5, 5, 5, 5, 5, 5, 5, 5, 5, 5, 5, 5, 5, 5, 5, 5, 5, 5, 5, 5, 5, 5, 5, 5, 5, 5, 5, 5, 5, 5, 5, 5, 5, 5, 5, 5, 5, 5, 5, 5, 6, 6, 6, 6, 6, 6, 6, 6, 6, 6, 6, 6, 6, 6, 6, 6, 6, 6, 6, 6, 6, 6, 6, 6, 6, 6, 6, 6, 6, 6, 6, 6, 6, 6, 6, 6, 6, 6, 6, 6, 6, 6, 6, 6, 6, 6, 6, 6, 6, 6, 6, 6, 6, 6, 6, 6, 6, 6, 6, 6, 6, 6, 6, 6, 6, 6, 6, 6, 6, 6, 6, 6, 6, 6, 6, 6, 6, 6, 6, 6, 6, 6, 6, 6, 6, 6, 6, 6, 6, 6, 6, 6, 6, 6, 6, 6, 6, 6, 6, 6, 6, 6, 6, 6, 6, 6, 6, 6, 6, 6, 6, 6, 6, 6, 6, 6, 6, 6, 6, 6, 6, 6, 6, 6, 6, 6, 6, 6, 6, 6, 6, 6, 6, 6, 6, 6, 6, 6, 6, 6, 6, 6, 6, 6, 6, 6, 6, 6, 6, 6, 6, 6, 6, 6, 6, 6, 6, 6, 6, 6, 6, 6, 6, 6, 6, 6, 6, 6, 6, 6, 6, 6, 6, 6, 6, 6, 6, 6, 6, 6, 6, 6, 6, 6, 6, 6, 6, 6, 6, 6, 6, 6, 6, 6, 6, 6, 6, 6, 6, 6, 6, 7, 7, 7, 7, 7, 7, 7, 7, 7, 7, 7, 7, 7, 7, 7, 7, 7, 7, 7, 7, 7, 7, 7, 7, 7, 7, 7, 7, 7, 7, 7, 7, 7, 7, 7, 7, 7, 7, 7, 7, 7, 7, 7, 7, 7, 7, 7, 7, 7, 7, 7, 7, 7, 7, 7, 7, 7, 7, 7, 7, 7, 7, 7, 7, 7, 7, 7, 7, 7, 7, 7, 7, 7, 7, 7, 7, 7, 7, 7, 7, 7, 7, 7, 7, 7, 7, 7, 7, 7, 7, 7, 7, 7, 7, 7, 7, 7, 7, 7, 7, 7, 7, 7, 7, 7, 7, 7, 7, 7, 7, 7, 7, 7, 7, 7, 7, 7, 7, 7, 7, 7, 7, 7, 7, 7, 7, 7, 7, 7, 7, 7, 7, 7, 7, 7, 7, 7, 7, 7, 7, 7, 7, 7, 7, 7, 7, 7, 7, 7, 7, 7, 7, 7, 7, 7, 7, 7, 7, 7, 7, 7, 7, 7, 8, 8, 8, 8, 8, 8, 8, 8, 8, 8, 8, 8, 8, 8, 8, 8, 8, 8, 8, 8, 8, 8, 8, 8, 8, 8, 8, 8, 8, 8, 8, 8, 8, 8, 8, 8, 8, 8, 8, 8, 8, 8, 8, 8, 8, 8, 8, 8, 8, 8, 8, 8, 8, 8, 8, 8, 8, 8, 8, 8, 8, 8, 8, 8, 8, 8, 8, 8, 8, 8, 8, 8, 8, 8, 8, 8, 8, 8, 8, 8, 8, 8, 8, 8, 8, 8, 8, 8, 8, 8, 8, 8, 8, 8, 8, 8, 8, 8, 8, 8, 8, 8, 8, 8, 8, 8, 8, 8, 8, 8, 8, 8, 8, 8, 8, 8, 8, 8, 8, 8, 8, 8, 8, 8, 8, 8, 8, 8, 8, 8, 8, 8, 8, 8, 8, 8, 8, 8, 8, 8, 8, 8, 8, 8, 8, 8, 8, 8, 8, 8, 8, 8, 8, 9, 9, 9, 9, 9, 9, 9, 9, 9, 9, 9, 9, 9, 9, 9, 9, 9, 9, 9, 9, 9, 9, 9, 9, 9, 9, 9, 9, 9, 9, 9, 9, 9, 9, 9, 9, 9, 9, 9, 9, 9, 9, 9, 9, 9, 9, 9, 9, 9, 9, 9, 9, 9, 9, 9, 9, 9, 9, 9, 9, 9, 9, 9, 9, 9, 9, 9, 9, 9, 9, 9, 9, 9, 9, 9, 9, 9, 9, 9, 9, 9, 9, 9, 9, 9, 9, 9, 9, 9, 9, 9, 9, 9, 9, 9, 9, 9, 9, 9, 9, 9, 9, 9, 9, 9, 9, 9, 9, 9, 9, 9, 9, 9, 9, 9, 9, 9, 9, 9, 9, 9, 9, 9, 9, 9, 9, 9, 9, 9, 9, 9, 9, 9, 9, 9, 9, 9, 9, 9, 9, 9, 9, 9, 9, 9, 9, 9, 9, 9, 9, 9, 9, 9, 9, 9, 9, 9, 9, 9, 9, 9, 9, 9, 9, 9, 9, 9, 9, 9, 9, 9, 9, 9, 9, 9, 9, 9, 10, 10, 10, 10, 10, 10, 10, 10, 10, 10, 10, 10, 10, 10, 10, 10, 10, 10, 10, 10, 10, 10, 10, 10, 10, 10, 10, 10, 10, 10, 10, 10, 10, 10, 10, 10, 10, 10, 10, 10, 10, 10, 10, 10, 10, 10, 10, 10, 10, 10, 10, 10, 10, 10, 10, 10, 10, 10, 10, 10, 10, 10, 10, 10, 10, 10, 10, 10, 10, 10, 10, 10, 10, 10, 10, 10, 10, 10, 10, 10, 10, 10, 10, 10, 10, 10, 10, 10, 10, 10, 10, 10, 10, 10, 10, 10, 10, 10, 10, 10, 10, 10, 10, 10, 10, 10, 10, 10, 10, 10, 10, 10, 10, 10, 10, 10, 10, 10, 10, 10, 10, 10, 10, 10, 10, 10, 10, 10, 10, 10, 10, 10, 10, 10, 10, 10, 10, 10, 10, 10, 10, 10, 10, 10, 10, 10, 10, 10, 10, 10, 10, 10, 10, 10, 10, 10, 10, 10, 10, 10, 10, 10, 10, 10, 10, 10, 10, 10, 10, 10, 10, 10, 10, 10, 10, 10, 10, 10, 10, 10, 10, 10, 10, 10, 10, 10, 10, 10, 10, 10, 10, 10, 10, 10, 10, 10, 10, 10, 10, 10, 10, 10, 10, 10, 10, 10, 10, 10, 10, 10, 10, 10]\n"
     ]
    }
   ],
   "source": [
    "L = liste_aleatoire(2000,0,10)\n",
    "#print(L)\n",
    "tri_shell(L)\n",
    "print(L)"
   ]
  },
  {
   "cell_type": "markdown",
   "id": "843b59e7-78e8-403c-bf94-9380c2cd0577",
   "metadata": {},
   "source": [
    "# Exo 4\n",
    "\n",
    "Ici on effectue une variante plus rapide de l'algorithme présenté en cours.\n",
    "\n",
    "En utilisant [l'algorithme du drapeau](https://fr.wikipedia.org/wiki/Probl%C3%A8me_du_drapeau_hollandais), on sépare la liste en trois parties : les éléments strictement plus petit que le pivot, les éléments égaux au pivot et les éléments strictement plus grand que le pivot.\n",
    "\n",
    "Il reste alors qu'a trier les deux parties d'éléments non égaux au pivot."
   ]
  },
  {
   "cell_type": "code",
   "execution_count": 9,
   "id": "44025abb-277b-4fb4-b671-96d938f4aca3",
   "metadata": {},
   "outputs": [],
   "source": [
    "def algo_drapeau(L,start,end,cond):\n",
    "    \"\"\"\n",
    "    cond is a function L->{0,1,2}\n",
    "    \"\"\"\n",
    "    b = start\n",
    "    w = start\n",
    "    r = end\n",
    "    while w<=r:\n",
    "        if cond(L[w]) == 0:\n",
    "            temp = L[b]\n",
    "            L[b] = L[w]\n",
    "            L[w] = temp\n",
    "            b+=1\n",
    "            w+=1\n",
    "        elif cond(L[w]) == 1:\n",
    "            w+=1\n",
    "        else :\n",
    "            temp = L[r]\n",
    "            L[r] = L[w]\n",
    "            L[w] = temp\n",
    "            r -=1\n",
    "    return (b,w)"
   ]
  },
  {
   "cell_type": "code",
   "execution_count": 10,
   "id": "4904cb81-8114-45d2-870e-cebcfd66369f",
   "metadata": {},
   "outputs": [
    {
     "name": "stdout",
     "output_type": "stream",
     "text": [
      "[1, 4, 4, 3, 5, 3, 5, 6, 3, 5, 1, 3, 1, 2, 5, 4, 4, 6, 67]\n",
      "[1, 3, 3, 2, 3, 1, 1, 3, 4, 4, 4, 4, 5, 5, 6, 5, 6, 67, 5]\n",
      "8 12\n"
     ]
    }
   ],
   "source": [
    "L = [1,4,4,3,5,3,5,6,3,5,1,3,1,2,5,4,4,6,67]\n",
    "print(L)\n",
    "(b,w) = algo_drapeau(L,0,len(L)-1,lambda x : 0 if x<4 else 1 if x==4 else 2)\n",
    "print(L)\n",
    "print(b,w)"
   ]
  },
  {
   "cell_type": "code",
   "execution_count": 11,
   "id": "fb6421f8-a327-4ec3-a9f2-6b75fd2906b9",
   "metadata": {},
   "outputs": [],
   "source": [
    "def sample_elem(L,start,end):\n",
    "    return L[start]"
   ]
  },
  {
   "cell_type": "code",
   "execution_count": 12,
   "id": "0db4076c-63f0-439f-b4b8-40bc6278d453",
   "metadata": {},
   "outputs": [],
   "source": [
    "def tri_rapide(L,start,end):\n",
    "    if start>=end:\n",
    "        return\n",
    "    pivot = sample_elem(L,start,end)\n",
    "    (b,w) = algo_drapeau(L,start,end,lambda x : 0 if x<pivot else 1 if x==pivot else 2)\n",
    "    tri_rapide(L,start,b-1)\n",
    "    tri_rapide(L,w,end)"
   ]
  },
  {
   "cell_type": "code",
   "execution_count": 13,
   "id": "849f5aeb-95f6-4e9f-a28f-1a9954891829",
   "metadata": {},
   "outputs": [
    {
     "name": "stdout",
     "output_type": "stream",
     "text": [
      "[4, 6, 4, 7, 7, 5, 4, 0, 4, 8]\n",
      "[0, 4, 4, 4, 4, 5, 6, 7, 7, 8]\n"
     ]
    }
   ],
   "source": [
    "L = liste_aleatoire(10,0,10)\n",
    "print(L)\n",
    "tri_rapide(L,0,len(L)-1)\n",
    "print(L)"
   ]
  },
  {
   "cell_type": "markdown",
   "id": "04e87937-c225-426c-a187-aa19b70774a3",
   "metadata": {},
   "source": [
    "# Exo 5"
   ]
  },
  {
   "cell_type": "code",
   "execution_count": 14,
   "id": "a8732a5c-26f1-47ba-a097-7fef94e1cecc",
   "metadata": {},
   "outputs": [],
   "source": [
    "def tri_fusion(L):\n",
    "    \n",
    "    n = len(L)\n",
    "    if n<=1:\n",
    "        return L\n",
    "    Lg = tri_fusion(L[:int(n/2)])\n",
    "    Ld = tri_fusion(L[int(n/2):])\n",
    "    g = 0\n",
    "    d = 0\n",
    "    nL = [0]*n\n",
    "    for i in range(n):\n",
    "        if g>=len(Lg):\n",
    "            nL[i] = Ld[d]\n",
    "            d+=1\n",
    "        elif d>=len(Ld):\n",
    "            nL[i] = Ld[g]\n",
    "            g+=1\n",
    "        elif Ld[d]<Lg[g]:\n",
    "            nL[i] = Ld[d]\n",
    "            d+=1\n",
    "        else:\n",
    "            nL[i] = Lg[g]\n",
    "            g+=1\n",
    "    return L"
   ]
  },
  {
   "cell_type": "code",
   "execution_count": 15,
   "id": "85450767-c820-4424-a73d-2baeeaba12e9",
   "metadata": {},
   "outputs": [
    {
     "name": "stdout",
     "output_type": "stream",
     "text": [
      "[5, 9, 2, 1, 7, 2, 10, 5, 3, 2]\n",
      "[5, 9, 2, 1, 7, 2, 10, 5, 3, 2]\n"
     ]
    }
   ],
   "source": [
    "L = liste_aleatoire(10,0,10)\n",
    "print(L)\n",
    "tri_fusion(L)\n",
    "print(L)"
   ]
  },
  {
   "cell_type": "markdown",
   "id": "bc3d080f-c5c0-4e58-864f-35f35b46a431",
   "metadata": {},
   "source": [
    "# Exo 6"
   ]
  },
  {
   "cell_type": "code",
   "execution_count": 33,
   "id": "4e994e4e-d478-4312-9653-ff04c9436021",
   "metadata": {},
   "outputs": [],
   "source": [
    "def plot_perf(exp,rep):\n",
    "    ln = 2**np.arange(exp)\n",
    "\n",
    "    algos = [\n",
    "        (\"Tri par insertion\", tri_insertion),\n",
    "        (\"Tri Shell\", tri_shell),\n",
    "        (\"Tri rapide\", lambda L : tri_rapide(L,0,len(L)-1)),\n",
    "        (\"Tri fusion\", tri_fusion),\n",
    "    ]\n",
    "\n",
    "    times = np.zeros((len(algos),exp,rep),dtype=float)\n",
    "\n",
    "    for i,size in enumerate(ln):\n",
    "        for j in range(rep):\n",
    "            L = liste_aleatoire(size,0,10*size)\n",
    "            for (k,(_,f)) in enumerate(algos):\n",
    "                L2 = L.copy()\n",
    "                t1 = time.perf_counter()\n",
    "                f(L2)\n",
    "                t2 = time.perf_counter()\n",
    "                times[k,i,j] = t2-t1\n",
    "    mean_time = np.mean(times,2)\n",
    "\n",
    "    for (i,(name,_)) in enumerate(algos):\n",
    "        plt.plot(ln, mean_time[i],label = name)\n",
    "\n",
    "    plt.legend()"
   ]
  },
  {
   "cell_type": "code",
   "execution_count": 39,
   "id": "ba513e3d-1154-4158-8716-cecc690c279f",
   "metadata": {},
   "outputs": [
    {
     "data": {
      "image/png": "[encoded data removed]",
      "text/plain": [
       "<Figure size 640x480 with 1 Axes>"
      ]
     },
     "metadata": {},
     "output_type": "display_data"
    }
   ],
   "source": [
    "plot_perf(12,10)"
   ]
  },
  {
   "cell_type": "markdown",
   "id": "2dfcc7d6-7173-4308-afee-c7c5e49244d1",
   "metadata": {},
   "source": [
    "# Exo 7"
   ]
  },
  {
   "cell_type": "code",
   "execution_count": 37,
   "id": "85e78fa7-751d-4f83-a31f-eb44327c27fc",
   "metadata": {},
   "outputs": [],
   "source": [
    "a = np.random.randint(1,10,(4,4))"
   ]
  },
  {
   "cell_type": "code",
   "execution_count": 39,
   "id": "f55b8464-2ae7-4468-8322-06339fd7e25b",
   "metadata": {},
   "outputs": [
    {
     "data": {
      "text/plain": [
       "array([13, 23, 19, 21])"
      ]
     },
     "execution_count": 39,
     "metadata": {},
     "output_type": "execute_result"
    }
   ],
   "source": [
    "a.sum(0)."
   ]
  },
  {
   "cell_type": "code",
   "execution_count": 40,
   "id": "03a0c7b2-07db-4096-a34a-506a64f54f94",
   "metadata": {},
   "outputs": [],
   "source": [
    "def find_magic_square(n):\n",
    "    for perm in itertools.permutations(range(1,(n**2)+1)):\n",
    "        square = np.array(perm).reshape(n,n)\n",
    "        col = square.sum(0)\n",
    "        lig = square.sum(1)\n",
    "        val = col[0]\n",
    "        if (col == val).all() and (lig == val).all():\n",
    "            print(\"Carré magique !!!\")\n",
    "            print(square)\n",
    "            print()\n",
    "            break"
   ]
  },
  {
   "cell_type": "code",
   "execution_count": 41,
   "id": "725020d5-5008-42b4-924d-360330f833a8",
   "metadata": {},
   "outputs": [
    {
     "name": "stdout",
     "output_type": "stream",
     "text": [
      "Carré magique !!!\n",
      "[[1 5 9]\n",
      " [6 7 2]\n",
      " [8 3 4]]\n",
      "\n"
     ]
    }
   ],
   "source": [
    "find_magic_square(3)"
   ]
  },
  {
   "cell_type": "code",
   "execution_count": null,
   "id": "bd0a5878-a0b6-4a3a-acc2-d5d82ab047d5",
   "metadata": {},
   "outputs": [],
   "source": []
  }
 ],
 "metadata": {
  "kernelspec": {
   "display_name": "Python 3 (ipykernel)",
   "language": "python",
   "name": "python3"
  },
  "language_info": {
   "codemirror_mode": {
    "name": "ipython",
    "version": 3
   },
   "file_extension": ".py",
   "mimetype": "text/x-python",
   "name": "python",
   "nbconvert_exporter": "python",
   "pygments_lexer": "ipython3",
   "version": "3.10.6"
  }
 },
 "nbformat": 4,
 "nbformat_minor": 5
}
